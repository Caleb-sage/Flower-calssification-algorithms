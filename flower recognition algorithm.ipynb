{
 "cells": [
  {
   "cell_type": "code",
   "execution_count": 14,
   "id": "fa65832b-a19f-432c-8900-b383ea9c74d7",
   "metadata": {},
   "outputs": [],
   "source": [
    "import tensorflow as tf\n",
    "import numpy as np\n",
    "import pandas as pd\n",
    "#import matplotlib as mpl\n",
    "import matplotlib.pyplot as plt"
   ]
  },
  {
   "cell_type": "code",
   "execution_count": 15,
   "id": "ae8f2d23-9cc8-4cce-9c5d-d8ec973ac58c",
   "metadata": {},
   "outputs": [],
   "source": [
    "from keras.preprocessing.image import ImageDataGenerator \n",
    "train = \"C:/U sers/User/Desktop/Flower recognition/Train\"\n",
    "test = \"C:/Users/User/Desktop/Flower recognition/Test\"\n",
    "validation = \"C:/Users/User/Desktop/Flower recognition/Validation\""
   ]
  },
  {
   "cell_type": "code",
   "execution_count": 16,
   "id": "767984d4-e1c1-4446-90f4-e2de8b7b81f3",
   "metadata": {},
   "outputs": [],
   "source": [
    "#I want to perform image argumentation, considering the fact that i don't have too many data\n",
    "train_gen = ImageDataGenerator (rescale = 1./255,\n",
    "                               shear_range = 0.2,\n",
    "                               zoom_range = 0.2,\n",
    "                               horizontal_flip = True)"
   ]
  },
  {
   "cell_type": "code",
   "execution_count": null,
   "id": "73aced76-98ba-4d3c-8686-556965cc0f1f",
   "metadata": {},
   "outputs": [],
   "source": [
    "train_set = train_gen.flow_from_directory(train,\n",
    "                                          target_size=(224,224), \n",
    "                                          batch_size=32, \n",
    "                                          class_mode='categorical')"
   ]
  },
  {
   "cell_type": "code",
   "execution_count": 18,
   "id": "31e920c8-8090-46ef-9bc2-ad164c3096e1",
   "metadata": {},
   "outputs": [],
   "source": [
    "validation_gen = ImageDataGenerator (rescale = 1./255)"
   ]
  },
  {
   "cell_type": "code",
   "execution_count": null,
   "id": "3ec5dd8e-9635-4750-8a5a-43eb31ef2a27",
   "metadata": {},
   "outputs": [],
   "source": [
    "validation_set = validation_gen.flow_from_directory(validation,\n",
    "                                          target_size=(224,224), \n",
    "                                          batch_size=32, \n",
    "                                          class_mode='categorical')"
   ]
  },
  {
   "cell_type": "code",
   "execution_count": 29,
   "id": "ec8eaa32-f65f-4a99-b178-985d657db42f",
   "metadata": {},
   "outputs": [
    {
     "name": "stdout",
     "output_type": "stream",
     "text": [
      "Model: \"sequential_9\"\n",
      "_________________________________________________________________\n",
      " Layer (type)                Output Shape              Param #   \n",
      "=================================================================\n",
      " conv2d_9 (Conv2D)           (None, 224, 224, 32)      2432      \n",
      "                                                                 \n",
      " max_pooling2d_5 (MaxPooling  (None, 112, 112, 32)     0         \n",
      " 2D)                                                             \n",
      "                                                                 \n",
      " conv2d_10 (Conv2D)          (None, 112, 112, 64)      51264     \n",
      "                                                                 \n",
      " max_pooling2d_6 (MaxPooling  (None, 56, 56, 64)       0         \n",
      " 2D)                                                             \n",
      "                                                                 \n",
      " dropout_3 (Dropout)         (None, 56, 56, 64)        0         \n",
      "                                                                 \n",
      " conv2d_11 (Conv2D)          (None, 56, 56, 96)        153696    \n",
      "                                                                 \n",
      " max_pooling2d_7 (MaxPooling  (None, 28, 28, 96)       0         \n",
      " 2D)                                                             \n",
      "                                                                 \n",
      " dropout_4 (Dropout)         (None, 28, 28, 96)        0         \n",
      "                                                                 \n",
      " conv2d_12 (Conv2D)          (None, 28, 28, 96)        230496    \n",
      "                                                                 \n",
      " max_pooling2d_8 (MaxPooling  (None, 14, 14, 96)       0         \n",
      " 2D)                                                             \n",
      "                                                                 \n",
      " dropout_5 (Dropout)         (None, 14, 14, 96)        0         \n",
      "                                                                 \n",
      " flatten (Flatten)           (None, 18816)             0         \n",
      "                                                                 \n",
      " dense (Dense)               (None, 512)               9634304   \n",
      "                                                                 \n",
      " dense_1 (Dense)             (None, 5)                 2565      \n",
      "                                                                 \n",
      "=================================================================\n",
      "Total params: 10,074,757\n",
      "Trainable params: 10,074,757\n",
      "Non-trainable params: 0\n",
      "_________________________________________________________________\n",
      "None\n"
     ]
    }
   ],
   "source": [
    "#Let me start building my model now\n",
    "model = tf.keras.models.Sequential()\n",
    "model.add(tf.keras.layers.Conv2D(filters=32, kernel_size=(5,5), padding='same', activation='relu', input_shape=[224,224,3]))\n",
    "model.add(tf.keras.layers.MaxPool2D(pool_size=(2,2), strides=(2,2)))\n",
    "                                                                   \n",
    "                                                                                                               \n",
    "\n",
    "model.add(tf.keras.layers.Conv2D(filters=64, kernel_size=(5,5), padding='same', activation='relu', input_shape=[224,224,3]))\n",
    "model.add(tf.keras.layers.MaxPool2D(pool_size=(2,2), strides=(2,2)))\n",
    "model.add(tf.keras.layers.Dropout(0.5))\n",
    "                                                                                                               \n",
    "                                                                                                               \n",
    "\n",
    "model.add(tf.keras.layers.Conv2D(filters=96, kernel_size=(5,5), padding='same', activation='relu', input_shape=[224,224,3]))\n",
    "model.add(tf.keras.layers.MaxPool2D(pool_size=(2,2), strides=(2,2)))\n",
    "model.add(tf.keras.layers.Dropout(0.5))  \n",
    "                                                                                                               \n",
    "                                                                                                               \n",
    "                                                                                                              \n",
    "model.add(tf.keras.layers.Conv2D(filters=96, kernel_size=(5,5), padding='same', activation='relu', input_shape=[224,224,3]))\n",
    "model.add(tf.keras.layers.MaxPool2D(pool_size=(2,2), strides=(2,2)))\n",
    "model.add(tf.keras.layers.Dropout(0.5))\n",
    "                                                                                                               \n",
    "                                                                                                               \n",
    "                                                                                                               \n",
    "#After we done adding our convolutional layers, we will need to flatten the images                                                                                                               \n",
    "model.add(tf.keras.layers.Flatten())\n",
    "#Add two dense layer to the flatten layer\n",
    "                                                                                                               \n",
    "model.add(tf.keras.layers.Dense(units=512,activation='relu'))\n",
    "model.add(tf.keras.layers.Dense(units=5, activation='softmax'))\n",
    "                                                    \n",
    "print(model.summary())"
   ]
  },
  {
   "cell_type": "markdown",
   "id": "5578bf92-1375-40ff-bf08-3680b6e4e7c1",
   "metadata": {},
   "source": [
    "model.compile(optimizer ='rmsprop', loss='categorical_crossentropy',metrics=['accuracy'])"
   ]
  },
  {
   "cell_type": "code",
   "execution_count": 36,
   "id": "39941643-18d5-45e6-82e3-f1c6825d9b7c",
   "metadata": {},
   "outputs": [
    {
     "name": "stdout",
     "output_type": "stream",
     "text": [
      "Epoch 1/20\n",
      "80/80 [==============================] - 772s 10s/step - loss: 0.7303 - accuracy: 0.7469 - val_loss: 1.0036 - val_accuracy: 0.6784\n",
      "Epoch 2/20\n",
      "80/80 [==============================] - 630s 8s/step - loss: 0.6465 - accuracy: 0.7703 - val_loss: 0.9700 - val_accuracy: 0.6620\n",
      "Epoch 3/20\n",
      "80/80 [==============================] - 602s 8s/step - loss: 0.6526 - accuracy: 0.7656 - val_loss: 0.9042 - val_accuracy: 0.6595\n",
      "Epoch 4/20\n",
      "80/80 [==============================] - 452s 6s/step - loss: 0.6188 - accuracy: 0.7711 - val_loss: 0.9035 - val_accuracy: 0.6633\n",
      "Epoch 5/20\n",
      "80/80 [==============================] - 451s 6s/step - loss: 0.6059 - accuracy: 0.7739 - val_loss: 0.9947 - val_accuracy: 0.6608\n",
      "Epoch 6/20\n",
      "80/80 [==============================] - 548s 7s/step - loss: 0.6175 - accuracy: 0.7833 - val_loss: 1.3351 - val_accuracy: 0.5864\n",
      "Epoch 7/20\n",
      "80/80 [==============================] - 575s 7s/step - loss: 0.6221 - accuracy: 0.7840 - val_loss: 0.9689 - val_accuracy: 0.6583\n",
      "Epoch 8/20\n",
      "80/80 [==============================] - 567s 7s/step - loss: 0.6136 - accuracy: 0.7844 - val_loss: 1.0353 - val_accuracy: 0.6595\n",
      "Epoch 9/20\n",
      "80/80 [==============================] - 581s 7s/step - loss: 0.6221 - accuracy: 0.7848 - val_loss: 0.9618 - val_accuracy: 0.6696\n",
      "Epoch 10/20\n",
      "80/80 [==============================] - 719s 9s/step - loss: 0.6154 - accuracy: 0.7801 - val_loss: 1.0195 - val_accuracy: 0.6709\n",
      "Epoch 11/20\n",
      "80/80 [==============================] - 735s 9s/step - loss: 0.5568 - accuracy: 0.7919 - val_loss: 1.0191 - val_accuracy: 0.6608\n",
      "Epoch 12/20\n",
      "80/80 [==============================] - 742s 9s/step - loss: 0.5732 - accuracy: 0.8083 - val_loss: 0.9343 - val_accuracy: 0.6759\n",
      "Epoch 13/20\n",
      "80/80 [==============================] - 737s 9s/step - loss: 0.5381 - accuracy: 0.8040 - val_loss: 1.1329 - val_accuracy: 0.6570\n",
      "Epoch 14/20\n",
      "80/80 [==============================] - 794s 10s/step - loss: 0.5951 - accuracy: 0.7872 - val_loss: 0.9398 - val_accuracy: 0.6797\n",
      "Epoch 15/20\n",
      "80/80 [==============================] - 817s 10s/step - loss: 0.5654 - accuracy: 0.7993 - val_loss: 0.9686 - val_accuracy: 0.6683\n",
      "Epoch 16/20\n",
      "80/80 [==============================] - 821s 10s/step - loss: 0.5578 - accuracy: 0.8032 - val_loss: 1.0536 - val_accuracy: 0.6040\n",
      "Epoch 17/20\n",
      "80/80 [==============================] - 831s 10s/step - loss: 0.6383 - accuracy: 0.8024 - val_loss: 1.0582 - val_accuracy: 0.6608\n",
      "Epoch 18/20\n",
      "80/80 [==============================] - 772s 10s/step - loss: 0.6102 - accuracy: 0.7993 - val_loss: 1.0829 - val_accuracy: 0.6570\n",
      "Epoch 19/20\n",
      "80/80 [==============================] - 846s 11s/step - loss: 0.5622 - accuracy: 0.8024 - val_loss: 0.9770 - val_accuracy: 0.6772\n",
      "Epoch 20/20\n",
      "80/80 [==============================] - 834s 10s/step - loss: 0.5391 - accuracy: 0.8110 - val_loss: 0.9788 - val_accuracy: 0.6772\n"
     ]
    }
   ],
   "source": [
    "history = model.fit(x=train_set, validation_data= validation_set, batch_size=32, epochs=20,)"
   ]
  },
  {
   "cell_type": "code",
   "execution_count": 38,
   "id": "3535ab7d-0683-479d-ba9f-82c8b7e3ad17",
   "metadata": {},
   "outputs": [],
   "source": [
    "acc = history.history['accuracy']\n",
    "val_acc = acc = history.history['val_accuracy']\n",
    "loss = history.history['loss']"
   ]
  },
  {
   "cell_type": "code",
   "execution_count": 48,
   "id": "89421a37-a50e-428f-8d4c-f7cc6a604df9",
   "metadata": {},
   "outputs": [],
   "source": [
    "val_loss = history.history['val_loss']"
   ]
  },
  {
   "cell_type": "code",
   "execution_count": 3,
   "id": "f0d89e31-9b4d-4187-a2b9-f5608c8801ca",
   "metadata": {},
   "outputs": [],
   "source": [
    "from keras.utils.vis_utils import plot_model\n"
   ]
  },
  {
   "cell_type": "code",
   "execution_count": null,
   "id": "0189ee18-2c2d-4fdc-8553-3dd2ee2f2d2d",
   "metadata": {},
   "outputs": [],
   "source": [
    "plot_model(model)"
   ]
  },
  {
   "cell_type": "code",
   "execution_count": 49,
   "id": "ba75cb51-37e5-4dec-993d-bdf0b314c663",
   "metadata": {},
   "outputs": [
    {
     "name": "stdout",
     "output_type": "stream",
     "text": [
      "[0.6784363389015198, 0.6620428562164307, 0.6595208048820496, 0.6633039116859436, 0.6607818603515625, 0.5863808393478394, 0.6582597494125366, 0.6595208048820496, 0.6696090698242188, 0.6708701252937317, 0.6607818603515625, 0.6759142279624939, 0.6569987535476685, 0.6796973347663879, 0.6683480739593506, 0.6040353178977966, 0.6607818603515625, 0.6569987535476685, 0.6771752834320068, 0.6771752834320068]\n",
      "[0.6784363389015198, 0.6620428562164307, 0.6595208048820496, 0.6633039116859436, 0.6607818603515625, 0.5863808393478394, 0.6582597494125366, 0.6595208048820496, 0.6696090698242188, 0.6708701252937317, 0.6607818603515625, 0.6759142279624939, 0.6569987535476685, 0.6796973347663879, 0.6683480739593506, 0.6040353178977966, 0.6607818603515625, 0.6569987535476685, 0.6771752834320068, 0.6771752834320068]\n"
     ]
    }
   ],
   "source": [
    "print(acc)\n",
    "print(val_acc)"
   ]
  },
  {
   "cell_type": "code",
   "execution_count": 51,
   "id": "bbca5adb-0b8a-4d27-8e26-4da1a471c270",
   "metadata": {},
   "outputs": [
    {
     "data": {
      "image/png": "[encoded data removed]",
      "text/plain": [
       "<Figure size 576x576 with 2 Axes>"
      ]
     },
     "metadata": {
      "needs_background": "light"
     },
     "output_type": "display_data"
    }
   ],
   "source": [
    "epochs_range = range(20)\n",
    "plt.figure(figsize=(8,8))\n",
    "plt.subplot(1,2,1)\n",
    "plt.plot(epochs_range,acc,label='Training Accuracy')\n",
    "plt.plot(epochs_range, val_acc, label='Validation Accuracy')\n",
    "plt.legend(loc='lower right')\n",
    "plt.title('Training and Validation Accuracy')\n",
    "\n",
    "\n",
    "plt.subplot(1,2,2)\n",
    "plt.plot(epochs_range, loss,label='Training Accuracy')\n",
    "plt.plot(epochs_range, val_loss, label='Validation Accuracy')\n",
    "plt.legend(loc='upper right')\n",
    "plt.title('Training and Validation loss')\n",
    "\n",
    "plt.show()\n",
    "\n"
   ]
  },
  {
   "cell_type": "code",
   "execution_count": 52,
   "id": "6eff75a4-f51e-4b5e-a197-0f19b5777ea4",
   "metadata": {},
   "outputs": [],
   "source": [
    "model.save(\"C:/Users/User/Desktop/Flower recognition/Train/model.h5\")"
   ]
  },
  {
   "cell_type": "code",
   "execution_count": null,
   "id": "23cb1dc8-ee22-4dba-aae1-0a6496047de6",
   "metadata": {},
   "outputs": [],
   "source": []
  }
 ],
 "metadata": {
  "kernelspec": {
   "display_name": "Python 3 (ipykernel)",
   "language": "python",
   "name": "python3"
  },
  "language_info": {
   "codemirror_mode": {
    "name": "ipython",
    "version": 3
   },
   "file_extension": ".py",
   "mimetype": "text/x-python",
   "name": "python",
   "nbconvert_exporter": "python",
   "pygments_lexer": "ipython3",
   "version": "3.9.7"
  }
 },
 "nbformat": 4,
 "nbformat_minor": 5
}
