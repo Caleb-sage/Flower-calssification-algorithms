{
 "cells": [
  {
   "cell_type": "code",
   "execution_count": 1,
   "id": "fcd391a4-1068-4ebb-a785-70cb55d031a2",
   "metadata": {},
   "outputs": [],
   "source": [
    "import tensorflow as tf\n",
    "import pandas as pd\n",
    "import numpy as np\n",
    "import matplotlib.pyplot as plt\n",
    "from keras.preprocessing import image\n",
    "\n",
    "\n",
    "#flower categories\n",
    "flower_category = ['daisy', ' dandelion ', 'rose' , ' sunflower ', 'tulip ' ]\n",
    "#lets us load our model\n",
    "\n",
    "model = tf.keras.models.load_model(\"C:/Users/User/Desktop/Flower recognition/Train/model.h5\")"
   ]
  },
  {
   "cell_type": "code",
   "execution_count": 2,
   "id": "3947a599-a1f2-4ac2-9233-09d9e2f89d46",
   "metadata": {},
   "outputs": [
    {
     "name": "stdout",
     "output_type": "stream",
     "text": [
      "Model: \"sequential_9\"\n",
      "_________________________________________________________________\n",
      " Layer (type)                Output Shape              Param #   \n",
      "=================================================================\n",
      " conv2d_9 (Conv2D)           (None, 224, 224, 32)      2432      \n",
      "                                                                 \n",
      " max_pooling2d_5 (MaxPooling  (None, 112, 112, 32)     0         \n",
      " 2D)                                                             \n",
      "                                                                 \n",
      " conv2d_10 (Conv2D)          (None, 112, 112, 64)      51264     \n",
      "                                                                 \n",
      " max_pooling2d_6 (MaxPooling  (None, 56, 56, 64)       0         \n",
      " 2D)                                                             \n",
      "                                                                 \n",
      " dropout_3 (Dropout)         (None, 56, 56, 64)        0         \n",
      "                                                                 \n",
      " conv2d_11 (Conv2D)          (None, 56, 56, 96)        153696    \n",
      "                                                                 \n",
      " max_pooling2d_7 (MaxPooling  (None, 28, 28, 96)       0         \n",
      " 2D)                                                             \n",
      "                                                                 \n",
      " dropout_4 (Dropout)         (None, 28, 28, 96)        0         \n",
      "                                                                 \n",
      " conv2d_12 (Conv2D)          (None, 28, 28, 96)        230496    \n",
      "                                                                 \n",
      " max_pooling2d_8 (MaxPooling  (None, 14, 14, 96)       0         \n",
      " 2D)                                                             \n",
      "                                                                 \n",
      " dropout_5 (Dropout)         (None, 14, 14, 96)        0         \n",
      "                                                                 \n",
      " flatten (Flatten)           (None, 18816)             0         \n",
      "                                                                 \n",
      " dense (Dense)               (None, 512)               9634304   \n",
      "                                                                 \n",
      " dense_1 (Dense)             (None, 5)                 2565      \n",
      "                                                                 \n",
      "=================================================================\n",
      "Total params: 10,074,757\n",
      "Trainable params: 10,074,757\n",
      "Non-trainable params: 0\n",
      "_________________________________________________________________\n"
     ]
    }
   ],
   "source": [
    "model.summary()"
   ]
  },
  {
   "cell_type": "code",
   "execution_count": 4,
   "id": "31c97930-a705-4896-82ca-a19d31172429",
   "metadata": {},
   "outputs": [
    {
     "name": "stdout",
     "output_type": "stream",
     "text": [
      "(224, 224, 3)\n"
     ]
    }
   ],
   "source": [
    "#img_src = \"C:/Users/User/Desktop/Flower recognition/Test/daisy/10437929963_bc13eebe0c.jpg\"\n",
    "img_src = r\"C:\\Users\\User\\Downloads\\buka.jpg\"\n",
    "image_test = image.load_img(img_src, target_size = (224,224) )\n",
    "image_array = image.img_to_array(image_test)\n",
    "print(image_array.shape)"
   ]
  },
  {
   "cell_type": "code",
   "execution_count": 5,
   "id": "80a7599c-03d0-4819-8c24-0a5234c5d37a",
   "metadata": {},
   "outputs": [
    {
     "data": {
      "text/plain": [
       "(1, 224, 224, 3)"
      ]
     },
     "execution_count": 5,
     "metadata": {},
     "output_type": "execute_result"
    }
   ],
   "source": [
    "test_image = np.expand_dims(image_array, axis=0)\n",
    "test_image.shape"
   ]
  },
  {
   "cell_type": "code",
   "execution_count": 6,
   "id": "df551b01-4b59-4794-8e8b-58ba71f69d49",
   "metadata": {},
   "outputs": [
    {
     "name": "stdout",
     "output_type": "stream",
     "text": [
      "[[0. 1. 0. 0. 0.]]\n",
      "*** This is a Dandelion Flower ***\n"
     ]
    }
   ],
   "source": [
    "result = model.predict(test_image)\n",
    "print(result)\n",
    "if result[0][0] == 1 :\n",
    "    print('*** This is a Daisy Flower ***')\n",
    "elif result[0][1] == 1:\n",
    "    print('*** This is a Dandelion Flower ***')\n",
    "elif result[0][2]==1:\n",
    "    print('*** This is a Rose Flower ***')\n",
    "elif result[0][3]==1:\n",
    "    print('*** This is a Sunflower Flower ***')\n",
    "elif result[0][4]==1:\n",
    "    print('*** This is a Tulip Flower ***')\n",
    "else:\n",
    "    print('I don\\'t know' )"
   ]
  },
  {
   "cell_type": "code",
   "execution_count": 63,
   "id": "5c3e1e51-46e6-403e-b658-0c01e96b5605",
   "metadata": {},
   "outputs": [
    {
     "data": {
      "text/plain": [
       "array([[ 2,  4,  6,  8, 10],\n",
       "       [12, 14, 16, 18, 20]])"
      ]
     },
     "execution_count": 63,
     "metadata": {},
     "output_type": "execute_result"
    }
   ],
   "source": [
    "d = np.arange(2, 21, step=2)\n",
    "k = d.reshape(2,5)\n",
    "k"
   ]
  },
  {
   "cell_type": "code",
   "execution_count": 69,
   "id": "af81388a-ccf6-4747-8e13-b0647ed06584",
   "metadata": {},
   "outputs": [
    {
     "data": {
      "text/plain": [
       "16"
      ]
     },
     "execution_count": 69,
     "metadata": {},
     "output_type": "execute_result"
    }
   ],
   "source": [
    "d[7]"
   ]
  },
  {
   "cell_type": "code",
   "execution_count": 67,
   "id": "0aea7215-6463-4c3a-b1eb-3c7652ac2d66",
   "metadata": {},
   "outputs": [
    {
     "data": {
      "text/plain": [
       "(2, 5)"
      ]
     },
     "execution_count": 67,
     "metadata": {},
     "output_type": "execute_result"
    }
   ],
   "source": [
    "k.shape"
   ]
  },
  {
   "cell_type": "code",
   "execution_count": null,
   "id": "c5d2e92f-abc8-4ffa-9e4c-6077f7a437e0",
   "metadata": {},
   "outputs": [],
   "source": []
  }
 ],
 "metadata": {
  "kernelspec": {
   "display_name": "Python 3 (ipykernel)",
   "language": "python",
   "name": "python3"
  },
  "language_info": {
   "codemirror_mode": {
    "name": "ipython",
    "version": 3
   },
   "file_extension": ".py",
   "mimetype": "text/x-python",
   "name": "python",
   "nbconvert_exporter": "python",
   "pygments_lexer": "ipython3",
   "version": "3.9.7"
  }
 },
 "nbformat": 4,
 "nbformat_minor": 5
}
